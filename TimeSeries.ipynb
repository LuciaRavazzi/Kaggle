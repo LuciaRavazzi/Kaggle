{
 "cells": [
  {
   "cell_type": "code",
   "execution_count": null,
   "metadata": {},
   "outputs": [],
   "source": [
    "import pandas as pd\n",
    "import matplotlib.pyplot as plt \n",
    "import seaborn as sns\n",
    "import numpy as np\n",
    "\n",
    "from sklearn.linear_model import LinearRegression"
   ]
  },
  {
   "cell_type": "markdown",
   "metadata": {},
   "source": [
    "#### **Import data**"
   ]
  },
  {
   "cell_type": "code",
   "execution_count": null,
   "metadata": {},
   "outputs": [],
   "source": [
    "df = pd.read_csv(\"store-sales-time-series-forecasting/book_sales.csv\", index_col = \"Date\", parse_dates = [\"Date\"])\n",
    "df = df.drop([\"Paperback\"], axis = 1)\n",
    "df.head()"
   ]
  },
  {
   "cell_type": "markdown",
   "metadata": {},
   "source": [
    "#### **Linear regression**\n",
    "\n",
    "The interesting features that could be used to solve this problem are time and lags. "
   ]
  },
  {
   "cell_type": "code",
   "execution_count": null,
   "metadata": {},
   "outputs": [],
   "source": [
    "df[\"Time\"] = range(0, df.shape[0])"
   ]
  },
  {
   "cell_type": "code",
   "execution_count": null,
   "metadata": {},
   "outputs": [],
   "source": [
    "plt.style.use(\"seaborn-whitegrid\")\n",
    "\n",
    "plt.rc(\n",
    "    \"figure\",\n",
    "    autolayout = True,\n",
    "    figsize = (11, 4),\n",
    "    titlesize = 18,\n",
    "    titleweight = \"bold\"\n",
    ")\n",
    "\n",
    "plt.rc(\n",
    "    \"axes\",\n",
    "    labelweight=\"bold\",\n",
    "    labelsize=\"large\",\n",
    "    titleweight=\"bold\",\n",
    "    titlesize=16,\n",
    "    titlepad=10,\n",
    ")\n",
    "\n",
    "fig, ax = plt.subplots()\n",
    "ax.plot(\"Time\", \"Hardcover\", data = df, color = '0.7')\n",
    "ax = sns.regplot(x = \"Time\", y = \"Hardcover\", data = df, ci = 95, scatter_kws = dict(color = \"0.25\"))\n",
    "ax.set_title('Time Plot of Hardcover Sales')\n",
    "ax.grid(False);"
   ]
  },
  {
   "cell_type": "code",
   "execution_count": null,
   "metadata": {},
   "outputs": [],
   "source": [
    "lr = LinearRegression()\n",
    "\n",
    "lr.fit(X = df[\"Time\"].values.reshape(-1, 1), y = df[\"Hardcover\"].values)\n",
    "\n",
    "lr.coef_[0], lr.intercept_"
   ]
  },
  {
   "cell_type": "code",
   "execution_count": null,
   "metadata": {},
   "outputs": [],
   "source": [
    "df[\"Hardcover\"].values"
   ]
  },
  {
   "cell_type": "code",
   "execution_count": null,
   "metadata": {},
   "outputs": [],
   "source": [
    "df[\"Lag_1\"] = df.Hardcover.shift(1)\n",
    "df.head()"
   ]
  },
  {
   "cell_type": "code",
   "execution_count": null,
   "metadata": {},
   "outputs": [],
   "source": [
    "# dato che si osserva una correlazione tra la variabile e il suo lag, \n",
    "# tale lag dovrebbe essere tenuto in considerazione per le analisi.\n",
    "# Stiamo tenendo in considerazione una dipendenza seriale: il sales di un\n",
    "# giorno sarà minore di quello successivo.  \n",
    "\n",
    "fig, ax = plt.subplots()\n",
    "ax = sns.regplot(x = \"Lag_1\", y = \"Hardcover\", data = df[[\"Lag_1\", \"Hardcover\"]], ci = 95, scatter_kws = dict(color = \"0.25\"))\n",
    "ax.set_title('Lag Plot of Hardcover Sales')\n",
    "ax.grid(False);"
   ]
  },
  {
   "cell_type": "code",
   "execution_count": null,
   "metadata": {},
   "outputs": [],
   "source": [
    "lr = LinearRegression()\n",
    "\n",
    "lr.fit(X = df[\"Lag_1\"].values[1:].reshape(-1, 1), y = df[\"Hardcover\"].values[1:])\n",
    "\n",
    "lr.coef_[0], lr.intercept_"
   ]
  },
  {
   "cell_type": "code",
   "execution_count": null,
   "metadata": {},
   "outputs": [],
   "source": [
    "lr = LinearRegression()\n",
    "\n",
    "lr.fit(X = df[[\"Time\", \"Lag_1\"]].values[1:,:], y = df[\"Hardcover\"].values[1:])\n",
    "\n",
    "lr.coef_[0], lr.intercept_"
   ]
  }
 ],
 "metadata": {
  "interpreter": {
   "hash": "8674c67b6bd1f1625332c22744f8c42df0a0a44032360d0ea02ec49d4515fd83"
  },
  "kernelspec": {
   "display_name": "Python 3.9.7 ('github_env')",
   "language": "python",
   "name": "python3"
  },
  "language_info": {
   "codemirror_mode": {
    "name": "ipython",
    "version": 3
   },
   "file_extension": ".py",
   "mimetype": "text/x-python",
   "name": "python",
   "nbconvert_exporter": "python",
   "pygments_lexer": "ipython3",
   "version": "3.9.7"
  }
 },
 "nbformat": 4,
 "nbformat_minor": 2
}
