{
 "cells": [
  {
   "cell_type": "markdown",
   "metadata": {},
   "source": [
    "#### **Python env**"
   ]
  },
  {
   "cell_type": "code",
   "execution_count": null,
   "metadata": {},
   "outputs": [],
   "source": [
    "import pandas as pd\n",
    "import matplotlib.pyplot as plt \n",
    "import seaborn as sns\n",
    "import numpy as np\n",
    "\n",
    "from sklearn.linear_model import LinearRegression"
   ]
  },
  {
   "cell_type": "markdown",
   "metadata": {},
   "source": [
    "#### **Import data**"
   ]
  },
  {
   "cell_type": "code",
   "execution_count": null,
   "metadata": {},
   "outputs": [],
   "source": [
    "df = pd.read_csv(\"store-sales-time-series-forecasting/book_sales.csv\", parse_dates = [\"Date\"])\n",
    "df = df.drop([\"Paperback\"], axis = 1)\n",
    "df.head()"
   ]
  },
  {
   "cell_type": "markdown",
   "metadata": {},
   "source": [
    "#### **Linear regression**\n",
    "\n",
    "The interesting features that could be used to solve this problem are time and lags. In order to solce the problem, maybe a combination of the two could be used."
   ]
  },
  {
   "cell_type": "code",
   "execution_count": null,
   "metadata": {},
   "outputs": [],
   "source": [
    "df[\"Time\"] = range(0, df.shape[0])"
   ]
  },
  {
   "cell_type": "code",
   "execution_count": null,
   "metadata": {},
   "outputs": [],
   "source": [
    "plt.style.use(\"seaborn-whitegrid\")\n",
    "\n",
    "plt.rc(\n",
    "    \"figure\",\n",
    "    autolayout = True,\n",
    "    figsize = (11, 4),\n",
    "    titlesize = 18,\n",
    "    titleweight = \"bold\"\n",
    ")\n",
    "\n",
    "plt.rc(\n",
    "    \"axes\",\n",
    "    labelweight=\"bold\",\n",
    "    labelsize=\"large\",\n",
    "    titleweight=\"bold\",\n",
    "    titlesize=16,\n",
    "    titlepad=10,\n",
    ")\n",
    "\n",
    "fig, ax = plt.subplots()\n",
    "ax.plot(\"Time\", \"Hardcover\", data = df, color = '0.7')\n",
    "ax = sns.regplot(x = \"Time\", y = \"Hardcover\", data = df, ci = 95, scatter_kws = dict(color = \"0.25\"))\n",
    "ax.set_title('Time Plot of Hardcover Sales')\n",
    "ax.grid(False);"
   ]
  },
  {
   "cell_type": "code",
   "execution_count": null,
   "metadata": {},
   "outputs": [],
   "source": [
    "lr = LinearRegression()\n",
    "\n",
    "lr.fit(X = df[\"Time\"].values.reshape(-1, 1), y = df[\"Hardcover\"].values)\n",
    "\n",
    "lr.coef_[0], lr.intercept_"
   ]
  },
  {
   "cell_type": "code",
   "execution_count": null,
   "metadata": {},
   "outputs": [],
   "source": [
    "df[\"Hardcover\"].values"
   ]
  },
  {
   "cell_type": "code",
   "execution_count": null,
   "metadata": {},
   "outputs": [],
   "source": [
    "df[\"Lag_1\"] = df.Hardcover.shift(1)\n",
    "df.head()"
   ]
  },
  {
   "cell_type": "code",
   "execution_count": null,
   "metadata": {},
   "outputs": [],
   "source": [
    "# dato che si osserva una correlazione tra la variabile e il suo lag, \n",
    "# tale lag dovrebbe essere tenuto in considerazione per le analisi.\n",
    "# Stiamo tenendo in considerazione una dipendenza seriale: il sales di un\n",
    "# giorno sarà minore di quello successivo.  \n",
    "\n",
    "fig, ax = plt.subplots()\n",
    "ax = sns.regplot(x = \"Lag_1\", y = \"Hardcover\", data = df[[\"Lag_1\", \"Hardcover\"]], ci = 95, scatter_kws = dict(color = \"0.25\"))\n",
    "ax.set_title('Lag Plot of Hardcover Sales')\n",
    "ax.grid(False);"
   ]
  },
  {
   "cell_type": "code",
   "execution_count": null,
   "metadata": {},
   "outputs": [],
   "source": [
    "lr = LinearRegression()\n",
    "\n",
    "lr.fit(X = df[\"Lag_1\"].values[1:].reshape(-1, 1), y = df[\"Hardcover\"].values[1:])\n",
    "\n",
    "lr.coef_[0], lr.intercept_"
   ]
  },
  {
   "cell_type": "code",
   "execution_count": null,
   "metadata": {},
   "outputs": [],
   "source": [
    "lr = LinearRegression()\n",
    "\n",
    "lr.fit(X = df[[\"Time\", \"Lag_1\"]].values[1:,:], y = df[\"Hardcover\"].values[1:])\n",
    "\n",
    "lr.coef_[0], lr.intercept_"
   ]
  },
  {
   "cell_type": "markdown",
   "metadata": {},
   "source": [
    "#### **Trend**\n",
    "\n",
    "A _trend_ represents the change in the mean of a time series and it is the slowest-moving part of a series.\n",
    "\n",
    "Generally speaking, a trend is a slow-moving and persistent change which could involve the mean but also other measures, like the median. Moreover, \n",
    "it could be linear or also a persistent and slow-moving seasonal. \n",
    "\n",
    "So, in order to highlight the type of trend, a rolling mean could be performed so that any short-term trend should be deleted. Therefore, the width of\n",
    "the rolling mean should be larger than the seasonal period.   "
   ]
  },
  {
   "cell_type": "code",
   "execution_count": null,
   "metadata": {},
   "outputs": [],
   "source": [
    "df = pd.read_csv(\"archive/tunnel.csv\")\n",
    "df[\"Day\"] = pd.to_datetime(df[\"Day\"])\n",
    "df[\"Time\"] = range(0, df.shape[0])\n",
    "df.head()"
   ]
  },
  {
   "cell_type": "code",
   "execution_count": null,
   "metadata": {},
   "outputs": [],
   "source": [
    "plt.style.use(\"seaborn-whitegrid\")\n",
    "\n",
    "plt.rc(\n",
    "    \"figure\",\n",
    "    autolayout = True,\n",
    "    figsize = (11, 4),\n",
    "    titlesize = 18,\n",
    "    titleweight = \"bold\"\n",
    ")\n",
    "\n",
    "plt.rc(\n",
    "    \"axes\",\n",
    "    labelweight=\"bold\",\n",
    "    labelsize=\"large\",\n",
    "    titleweight=\"bold\",\n",
    "    titlesize=16,\n",
    "    titlepad=10,\n",
    ")\n"
   ]
  },
  {
   "cell_type": "code",
   "execution_count": null,
   "metadata": {},
   "outputs": [],
   "source": [
    "fig, ax = plt.subplots()\n",
    "ax.plot(\"Time\", \"NumVehicles\", data = df, color = '0.7', zorder = 0)\n",
    "ax = sns.regplot(x = \"Time\", y = \"NumVehicles\", data = df, ci = 95, scatter_kws = dict(color = \"0.25\"))\n",
    "ax.set_title('Time Plot of Hardcover Sales')\n",
    "ax.grid(False);"
   ]
  },
  {
   "cell_type": "code",
   "execution_count": null,
   "metadata": {},
   "outputs": [],
   "source": [
    "moving_average = df.rolling(\n",
    "    window = 365,\n",
    "    center = True,\n",
    "    min_periods = 183\n",
    ").mean()\n",
    "\n",
    "ax = df[\"NumVehicles\"].plot()\n",
    "moving_average[\"NumVehicles\"].plot(ax = ax, linewidth = 3)\n",
    "ax.grid(False);\n",
    "\n",
    "# possiamo vedere che il trend è lineare."
   ]
  },
  {
   "cell_type": "code",
   "execution_count": null,
   "metadata": {},
   "outputs": [],
   "source": [
    "# una volta che il trend è stato identificato, possiamo modellarlo: in questo caso, possiamo ottenere le features\n",
    "# da un processo deterministico.\n",
    "\n",
    "from statsmodels.tsa.deterministic import DeterministicProcess\n",
    "\n",
    "dp = DeterministicProcess(\n",
    "    index = df.Time,    # regressor\n",
    "    constant = False,    # bias\n",
    "    order = 1,          # order of the regression\n",
    "    drop = True         # avoid collinearity\n",
    ")\n",
    "\n",
    "# feature estratte per i dati di training. \n",
    "\n",
    "X = dp.in_sample()\n",
    "X.head(5)"
   ]
  },
  {
   "cell_type": "code",
   "execution_count": null,
   "metadata": {},
   "outputs": [],
   "source": [
    "from sklearn.linear_model import LinearRegression\n",
    "\n",
    "y = df[\"NumVehicles\"]\n",
    "\n",
    "model = LinearRegression(fit_intercept = True)\n",
    "model.fit(X, y)\n",
    "\n",
    "y_pred = pd.Series(model.predict(X), index = X.index)\n",
    "\n",
    "X = dp.out_of_sample(steps=30)\n",
    "\n",
    "y_fore = pd.Series(model.predict(X), index=X.index)"
   ]
  },
  {
   "cell_type": "code",
   "execution_count": null,
   "metadata": {},
   "outputs": [],
   "source": [
    "plt.figure(figsize = (10, 5))\n",
    "plt.plot(y, color = \"red\", alpha = .7, label = \"Data\")\n",
    "plt.plot(y_pred, color = \"black\", alpha = .7, label = \"In-sample predictions\")\n",
    "plt.plot(y_fore, color = \"black\", ls = \"--\", alpha = .7, label = \"Out-sample predictions\")\n",
    "plt.legend()\n",
    "plt.grid(False)"
   ]
  },
  {
   "cell_type": "markdown",
   "metadata": {},
   "source": [
    "#### **Seasonality**\n",
    "\n",
    "Oscillazioni attorno alla media in modo regolari e periodiche danno vita alla _stagionalità_. Tendenzialmente, sono legate al calendario naturale.\n",
    "\n",
    "In base alla frequenze, possiamo definire due modi per definire la stagionalità: se è settimanale o giornaliera, si possono usare le variabili dummy. altrimenti la trasformata i Fourier. Questo perché l'approccio con le dummy si basa sul fatto di considerare tanti regressori quanto il periodo e se quest'ultimo dovesse essere grande, allora i regressori in gioco potrebbero essere eccessivi."
   ]
  },
  {
   "cell_type": "markdown",
   "metadata": {},
   "source": [
    "##### **Seasonal plot**\n",
    "\n",
    "Vengono utilizzati per plottare i dati nello stesso intervallo di tempo."
   ]
  },
  {
   "cell_type": "code",
   "execution_count": null,
   "metadata": {},
   "outputs": [],
   "source": [
    "def seasonal_plot(X, y, period, freq, ax=None):\n",
    "    if ax is None:\n",
    "        _, ax = plt.subplots()\n",
    "    palette = sns.color_palette(\"husl\", n_colors=X[period].nunique(),)\n",
    "    ax = sns.lineplot(\n",
    "        x=freq,\n",
    "        y=y,\n",
    "        hue=period,\n",
    "        data=X,\n",
    "        ci=False,\n",
    "        ax=ax,\n",
    "        palette=palette,\n",
    "        legend=False,\n",
    "    )\n",
    "    ax.set_title(f\"Seasonal Plot ({period}/{freq})\")\n",
    "    for line, name in zip(ax.lines, X[period].unique()):\n",
    "        y_ = line.get_ydata()[-1]\n",
    "        ax.annotate(\n",
    "            name,\n",
    "            xy=(1, y_),\n",
    "            xytext=(6, 0),\n",
    "            color=line.get_color(),\n",
    "            xycoords=ax.get_yaxis_transform(),\n",
    "            textcoords=\"offset points\",\n",
    "            size=14,\n",
    "            va=\"center\",\n",
    "        )\n",
    "    return ax"
   ]
  },
  {
   "cell_type": "code",
   "execution_count": null,
   "metadata": {},
   "outputs": [],
   "source": [
    "tunnel = pd.read_csv(\"archive/tunnel.csv\", parse_dates=[\"Day\"])\n",
    "tunnel.set_index([\"Day\"], inplace = True)\n",
    "tunnel.head()"
   ]
  },
  {
   "cell_type": "code",
   "execution_count": null,
   "metadata": {},
   "outputs": [],
   "source": [
    "# un grafico per analizzare la stagionalità è il seasonal plot.\n",
    "\n",
    "X = tunnel.copy()\n",
    "\n",
    "# day in a week.\n",
    "X[\"day\"] = X.index.day_of_week\n",
    "X[\"week\"] = X.index.week\n",
    "# day in a year.\n",
    "X[\"dayofyear\"] = X.index.dayofyear\n",
    "X[\"year\"] = X.index.year\n",
    "\n",
    "fig, (ax0, ax1) = plt.subplots(2, 1, figsize=(11, 6))\n",
    "seasonal_plot(X, y=\"NumVehicles\", period=\"week\", freq=\"day\", ax=ax0)\n",
    "seasonal_plot(X, y=\"NumVehicles\", period=\"year\", freq=\"dayofyear\", ax=ax1);"
   ]
  },
  {
   "cell_type": "markdown",
   "metadata": {},
   "source": [
    "##### **Dummy**\n",
    "\n",
    "Per tenere in considerazione le stagionalità corte nella regressione, è possibile tenere \n",
    "in considerazione il fatto che per alcuni momenti della stagionalità, come le ore o il giorno,\n",
    "il valore medio della serie puù aumentare o diminuire. Per tenere in considerazione questo aspetto,\n",
    "è possiile sfruttare le dummy. Si ricordi però che nel one-hot-encoding una variabile dummy deve essere\n",
    "eliminata se si considera l'intercetta. "
   ]
  },
  {
   "cell_type": "markdown",
   "metadata": {},
   "source": [
    "##### **Periodigramma**\n",
    "\n",
    "Se il periodo è piuttosto lungo, dovrei considerare  molti regressori. Di conseguenza, si utilizza la trasformata di Fourier in modo da considerare la overall shape della stagionalità. \n",
    "\n",
    "Per capire quante coppie sin/cos considerare, si utilizza il periodigramma il quale mostra $(a**2+b**2) / 2$ dove $a$ e $b$ rappresentano i coeff di Fourier per una frequenza fissata. Ovviamente questo è un risultato globale, poi è l'utente a dire in che modo dovranno essere modellate tali frequenze. "
   ]
  },
  {
   "cell_type": "code",
   "execution_count": null,
   "metadata": {},
   "outputs": [],
   "source": [
    "\n",
    "def plot_periodogram(ts, detrend='linear', ax=None):\n",
    "    from scipy.signal import periodogram\n",
    "    fs = pd.Timedelta(\"1Y\") / pd.Timedelta(\"1D\")\n",
    "    freqencies, spectrum = periodogram(\n",
    "        ts,\n",
    "        fs=fs,\n",
    "        detrend=detrend,\n",
    "        window=\"boxcar\",\n",
    "        scaling='spectrum',\n",
    "    )\n",
    "    if ax is None:\n",
    "        _, ax = plt.subplots()\n",
    "    ax.step(freqencies, spectrum, color=\"purple\")\n",
    "    ax.set_xscale(\"log\")\n",
    "    ax.set_xticks([1, 2, 4, 6, 12, 26, 52, 104])\n",
    "    ax.set_xticklabels(\n",
    "        [\n",
    "            \"Annual (1)\",\n",
    "            \"Semiannual (2)\",\n",
    "            \"Quarterly (4)\",\n",
    "            \"Bimonthly (6)\",\n",
    "            \"Monthly (12)\",\n",
    "            \"Biweekly (26)\",\n",
    "            \"Weekly (52)\",\n",
    "            \"Semiweekly (104)\",\n",
    "        ],\n",
    "        rotation=30,\n",
    "    )\n",
    "    ax.ticklabel_format(axis=\"y\", style=\"sci\", scilimits=(0, 0))\n",
    "    ax.set_ylabel(\"Variance\")\n",
    "    ax.set_title(\"Periodogram\")\n",
    "    return ax\n",
    "\n",
    "plot_periodogram(tunnel.NumVehicles);\n",
    "\n",
    "# si osserva che vi è una forte stagionalità settimanale ma non annuale."
   ]
  },
  {
   "cell_type": "code",
   "execution_count": null,
   "metadata": {},
   "outputs": [],
   "source": [
    "tunnel.index.to_period(\"D\")"
   ]
  },
  {
   "cell_type": "code",
   "execution_count": null,
   "metadata": {},
   "outputs": [],
   "source": [
    "from statsmodels.tsa.deterministic import CalendarFourier, DeterministicProcess\n",
    "\n",
    "\n",
    "fourier = CalendarFourier(freq = \"A\", order = 10)\n",
    "\n",
    "dp = DeterministicProcess(\n",
    "    index=tunnel.index.to_period(\"D\"),\n",
    "    constant=True,               # dummy feature for bias (y-intercept)\n",
    "    order=1,                     # trend (order 1 means linear)\n",
    "    seasonal=True,               # weekly seasonality (indicators)\n",
    "    additional_terms=[fourier],  # annual seasonality (fourier)\n",
    "    drop=True,                   # drop terms to avoid collinearity\n",
    ")\n",
    "\n",
    "X = dp.in_sample()\n",
    "X_fore = dp.out_of_sample(steps=90)"
   ]
  },
  {
   "cell_type": "code",
   "execution_count": null,
   "metadata": {},
   "outputs": [],
   "source": [
    "y = tunnel[\"NumVehicles\"]\n",
    "\n",
    "model = LinearRegression(fit_intercept=False)\n",
    "_ = model.fit(X, y)\n",
    "\n",
    "y_pred = pd.Series(model.predict(X), index=y.index)\n",
    "\n",
    "y_fore = pd.Series(model.predict(X_fore), index=X_fore.index)"
   ]
  },
  {
   "cell_type": "code",
   "execution_count": null,
   "metadata": {},
   "outputs": [],
   "source": [
    "ax = y.plot(color='0.25', style='.', title=\"Tunnel Traffic - Seasonal Forecast\")\n",
    "ax = y_pred.plot(ax=ax, label=\"Seasonal\")\n",
    "ax = y_fore.plot(ax=ax, label=\"Seasonal Forecast\", color='C3')\n",
    "_ = ax.legend()"
   ]
  }
 ],
 "metadata": {
  "interpreter": {
   "hash": "8674c67b6bd1f1625332c22744f8c42df0a0a44032360d0ea02ec49d4515fd83"
  },
  "kernelspec": {
   "display_name": "Python 3.9.7 ('github_env')",
   "language": "python",
   "name": "python3"
  },
  "language_info": {
   "codemirror_mode": {
    "name": "ipython",
    "version": 3
   },
   "file_extension": ".py",
   "mimetype": "text/x-python",
   "name": "python",
   "nbconvert_exporter": "python",
   "pygments_lexer": "ipython3",
   "version": "3.9.7"
  }
 },
 "nbformat": 4,
 "nbformat_minor": 2
}
