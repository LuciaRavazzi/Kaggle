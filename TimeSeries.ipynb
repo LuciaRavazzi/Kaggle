{
 "cells": [
  {
   "cell_type": "markdown",
   "metadata": {},
   "source": [
    "#### **Python env**"
   ]
  },
  {
   "cell_type": "code",
   "execution_count": null,
   "metadata": {},
   "outputs": [],
   "source": [
    "import pandas as pd\n",
    "import matplotlib.pyplot as plt \n",
    "import seaborn as sns\n",
    "import numpy as np\n",
    "\n",
    "from sklearn.linear_model import LinearRegression"
   ]
  },
  {
   "cell_type": "markdown",
   "metadata": {},
   "source": [
    "#### **Import data**"
   ]
  },
  {
   "cell_type": "code",
   "execution_count": null,
   "metadata": {},
   "outputs": [],
   "source": [
    "df = pd.read_csv(\"store-sales-time-series-forecasting/book_sales.csv\", index_col = \"Date\", parse_dates = [\"Date\"])\n",
    "df = df.drop([\"Paperback\"], axis = 1)\n",
    "df.head()"
   ]
  },
  {
   "cell_type": "markdown",
   "metadata": {},
   "source": [
    "#### **Linear regression**\n",
    "\n",
    "The interesting features that could be used to solve this problem are time and lags. In order to solce the problem, maybe a combination of the two could be used."
   ]
  },
  {
   "cell_type": "code",
   "execution_count": null,
   "metadata": {},
   "outputs": [],
   "source": [
    "df[\"Time\"] = range(0, df.shape[0])"
   ]
  },
  {
   "cell_type": "code",
   "execution_count": null,
   "metadata": {},
   "outputs": [],
   "source": [
    "plt.style.use(\"seaborn-whitegrid\")\n",
    "\n",
    "plt.rc(\n",
    "    \"figure\",\n",
    "    autolayout = True,\n",
    "    figsize = (11, 4),\n",
    "    titlesize = 18,\n",
    "    titleweight = \"bold\"\n",
    ")\n",
    "\n",
    "plt.rc(\n",
    "    \"axes\",\n",
    "    labelweight=\"bold\",\n",
    "    labelsize=\"large\",\n",
    "    titleweight=\"bold\",\n",
    "    titlesize=16,\n",
    "    titlepad=10,\n",
    ")\n",
    "\n",
    "fig, ax = plt.subplots()\n",
    "ax.plot(\"Time\", \"Hardcover\", data = df, color = '0.7')\n",
    "ax = sns.regplot(x = \"Time\", y = \"Hardcover\", data = df, ci = 95, scatter_kws = dict(color = \"0.25\"))\n",
    "ax.set_title('Time Plot of Hardcover Sales')\n",
    "ax.grid(False);"
   ]
  },
  {
   "cell_type": "code",
   "execution_count": null,
   "metadata": {},
   "outputs": [],
   "source": [
    "lr = LinearRegression()\n",
    "\n",
    "lr.fit(X = df[\"Time\"].values.reshape(-1, 1), y = df[\"Hardcover\"].values)\n",
    "\n",
    "lr.coef_[0], lr.intercept_"
   ]
  },
  {
   "cell_type": "code",
   "execution_count": null,
   "metadata": {},
   "outputs": [],
   "source": [
    "df[\"Hardcover\"].values"
   ]
  },
  {
   "cell_type": "code",
   "execution_count": null,
   "metadata": {},
   "outputs": [],
   "source": [
    "df[\"Lag_1\"] = df.Hardcover.shift(1)\n",
    "df.head()"
   ]
  },
  {
   "cell_type": "code",
   "execution_count": null,
   "metadata": {},
   "outputs": [],
   "source": [
    "# dato che si osserva una correlazione tra la variabile e il suo lag, \n",
    "# tale lag dovrebbe essere tenuto in considerazione per le analisi.\n",
    "# Stiamo tenendo in considerazione una dipendenza seriale: il sales di un\n",
    "# giorno sarà minore di quello successivo.  \n",
    "\n",
    "fig, ax = plt.subplots()\n",
    "ax = sns.regplot(x = \"Lag_1\", y = \"Hardcover\", data = df[[\"Lag_1\", \"Hardcover\"]], ci = 95, scatter_kws = dict(color = \"0.25\"))\n",
    "ax.set_title('Lag Plot of Hardcover Sales')\n",
    "ax.grid(False);"
   ]
  },
  {
   "cell_type": "code",
   "execution_count": null,
   "metadata": {},
   "outputs": [],
   "source": [
    "lr = LinearRegression()\n",
    "\n",
    "lr.fit(X = df[\"Lag_1\"].values[1:].reshape(-1, 1), y = df[\"Hardcover\"].values[1:])\n",
    "\n",
    "lr.coef_[0], lr.intercept_"
   ]
  },
  {
   "cell_type": "code",
   "execution_count": null,
   "metadata": {},
   "outputs": [],
   "source": [
    "lr = LinearRegression()\n",
    "\n",
    "lr.fit(X = df[[\"Time\", \"Lag_1\"]].values[1:,:], y = df[\"Hardcover\"].values[1:])\n",
    "\n",
    "lr.coef_[0], lr.intercept_"
   ]
  },
  {
   "cell_type": "markdown",
   "metadata": {},
   "source": [
    "#### **Trend**\n",
    "\n",
    "A _trend_ represents the change in the mean of a time series and it is the slowest-moving part of a series.\n",
    "\n",
    "Generally speaking, a trend is a slow-moving and persistent change which could involve the mean but also other measures, like the median. Moreover, \n",
    "it could be linear or also a persistent and slow-moving seasonal. \n",
    "\n",
    "So, in order to highlight the type of trend, a rolling mean could be performed so that any short-term trend should be deleted. Therefore, the width of\n",
    "the rolling mean should be larger than the seasonal period.   "
   ]
  },
  {
   "cell_type": "code",
   "execution_count": null,
   "metadata": {},
   "outputs": [],
   "source": [
    "df = pd.read_csv(\"archive/tunnel.csv\")\n",
    "df[\"Day\"] = pd.to_datetime(df[\"Day\"])\n",
    "df[\"Time\"] = range(0, df.shape[0])\n",
    "df.head()"
   ]
  },
  {
   "cell_type": "code",
   "execution_count": null,
   "metadata": {},
   "outputs": [],
   "source": [
    "plt.style.use(\"seaborn-whitegrid\")\n",
    "\n",
    "plt.rc(\n",
    "    \"figure\",\n",
    "    autolayout = True,\n",
    "    figsize = (11, 4),\n",
    "    titlesize = 18,\n",
    "    titleweight = \"bold\"\n",
    ")\n",
    "\n",
    "plt.rc(\n",
    "    \"axes\",\n",
    "    labelweight=\"bold\",\n",
    "    labelsize=\"large\",\n",
    "    titleweight=\"bold\",\n",
    "    titlesize=16,\n",
    "    titlepad=10,\n",
    ")\n"
   ]
  },
  {
   "cell_type": "code",
   "execution_count": null,
   "metadata": {},
   "outputs": [],
   "source": [
    "fig, ax = plt.subplots()\n",
    "ax.plot(\"Time\", \"NumVehicles\", data = df, color = '0.7', zorder = 0)\n",
    "ax = sns.regplot(x = \"Time\", y = \"NumVehicles\", data = df, ci = 95, scatter_kws = dict(color = \"0.25\"))\n",
    "ax.set_title('Time Plot of Hardcover Sales')\n",
    "ax.grid(False);"
   ]
  },
  {
   "cell_type": "code",
   "execution_count": null,
   "metadata": {},
   "outputs": [],
   "source": [
    "moving_average = df.rolling(\n",
    "    window = 365,\n",
    "    center = True,\n",
    "    min_periods = 183\n",
    ").mean()\n",
    "\n",
    "ax = df[\"NumVehicles\"].plot()\n",
    "moving_average[\"NumVehicles\"].plot(ax = ax, linewidth = 3)\n",
    "ax.grid(False);\n",
    "\n",
    "# possiamo vedere che il trend è lineare."
   ]
  },
  {
   "cell_type": "code",
   "execution_count": null,
   "metadata": {},
   "outputs": [],
   "source": [
    "# una volta che il trend è stato identificato, possiamo modellarlo: in questo caso, possiamo ottenere le features\n",
    "# da un processo deterministico.\n",
    "\n",
    "from statsmodels.tsa.deterministic import DeterministicProcess\n",
    "\n",
    "dp = DeterministicProcess(\n",
    "    index = df.Time,    # regressor\n",
    "    constant = False,    # bias\n",
    "    order = 1,          # order of the regression\n",
    "    drop = True         # avoid collinearity\n",
    ")\n",
    "\n",
    "# feature estratte per i dati di training. \n",
    "\n",
    "X = dp.in_sample()\n",
    "X.head(5)"
   ]
  },
  {
   "cell_type": "code",
   "execution_count": null,
   "metadata": {},
   "outputs": [],
   "source": [
    "from sklearn.linear_model import LinearRegression\n",
    "\n",
    "y = df[\"NumVehicles\"]\n",
    "\n",
    "model = LinearRegression(fit_intercept = True)\n",
    "model.fit(X, y)\n",
    "\n",
    "y_pred = pd.Series(model.predict(X), index = X.index)\n",
    "\n",
    "X = dp.out_of_sample(steps=30)\n",
    "\n",
    "y_fore = pd.Series(model.predict(X), index=X.index)"
   ]
  },
  {
   "cell_type": "code",
   "execution_count": null,
   "metadata": {},
   "outputs": [],
   "source": [
    "plt.figure(figsize = (10, 5))\n",
    "plt.plot(y, color = \"red\", alpha = .7, label = \"Data\")\n",
    "plt.plot(y_pred, color = \"black\", alpha = .7, label = \"In-sample predictions\")\n",
    "plt.plot(y_fore, color = \"black\", ls = \"--\", alpha = .7, label = \"Out-sample predictions\")\n",
    "plt.legend()\n",
    "plt.grid(False)"
   ]
  }
 ],
 "metadata": {
  "interpreter": {
   "hash": "8674c67b6bd1f1625332c22744f8c42df0a0a44032360d0ea02ec49d4515fd83"
  },
  "kernelspec": {
   "display_name": "Python 3.9.7 ('github_env')",
   "language": "python",
   "name": "python3"
  },
  "language_info": {
   "codemirror_mode": {
    "name": "ipython",
    "version": 3
   },
   "file_extension": ".py",
   "mimetype": "text/x-python",
   "name": "python",
   "nbconvert_exporter": "python",
   "pygments_lexer": "ipython3",
   "version": "3.9.7"
  }
 },
 "nbformat": 4,
 "nbformat_minor": 2
}
